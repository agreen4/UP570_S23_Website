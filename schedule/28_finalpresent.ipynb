{
  "cells": [
    {
      "cell_type": "raw",
      "metadata": {},
      "source": [
        "---\n",
        "title: \"Final Presentations\"\n",
        "sidebar: true\n",
        "toc: true\n",
        "page-layout: full\n",
        "format: html\n",
        "editor: visual\n",
        "---"
      ],
      "id": "2b9126c4"
    },
    {
      "cell_type": "markdown",
      "metadata": {},
      "source": [
        "## Session Description\n",
        "\n",
        "We've made it to the end of the semester! Now is the time to share and celebrate your hard work. This week's sessions are devoted to sharing your final stories. You will each have eight very brief minutes to share your policy-informed stories with us. Please plan to use the entire time to present to us - we'll give written comments and feedback so you have the maximum amount of time for sharing your work.\n",
        "\n",
        "## Today's Presenters\n",
        "\n",
        "Reminder - each presenter has eight minutes to share.\n",
        "\n",
        "1.  Julia P.\n",
        "2.  Chestha K.\n",
        "3.  Aakanksha K.\n",
        "4.  Luke T.\n",
        "5.  Josh R.\n",
        "6.  Shiva S.\n",
        "7.  Rafi A.\n",
        "8.  Tingxuan T.\n",
        "9.  Rose R.\n",
        "\n",
        "## Providing Feedback\n",
        "\n",
        "Please provide feedback to each other - I will consolidate your written feedback on each presentation and will send it to you.\n",
        "\n",
        "\n",
        "```{html}\n",
        "<iframe src=\"https://docs.google.com/forms/d/e/1FAIpQLSdMtazMAUZHGyYF9Mj-IFlzojYJkW6QYCGVaf2zJ6uoJ8xg9w/viewform?embedded=true\" width=\"640\" height=\"586\" frameborder=\"0\" marginheight=\"0\" marginwidth=\"0\">Loading…</iframe>\n",
        "\n",
        "```"
      ],
      "id": "fa3aa31e"
    }
  ],
  "metadata": {
    "kernelspec": {
      "display_name": "Python 3",
      "language": "python",
      "name": "python3"
    }
  },
  "nbformat": 4,
  "nbformat_minor": 5
}